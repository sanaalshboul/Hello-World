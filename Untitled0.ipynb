{
  "nbformat": 4,
  "nbformat_minor": 0,
  "metadata": {
    "colab": {
      "name": "Untitled0.ipynb",
      "provenance": [],
      "collapsed_sections": [],
      "authorship_tag": "ABX9TyObULSKjPGy/CL4Z/OvUWpW",
      "include_colab_link": true
    },
    "kernelspec": {
      "name": "python3",
      "display_name": "Python 3"
    }
  },
  "cells": [
    {
      "cell_type": "markdown",
      "metadata": {
        "id": "view-in-github",
        "colab_type": "text"
      },
      "source": [
        "<a href=\"https://colab.research.google.com/github/sanaalshboul/Hello-World/blob/master/Untitled0.ipynb\" target=\"_parent\"><img src=\"https://colab.research.google.com/assets/colab-badge.svg\" alt=\"Open In Colab\"/></a>"
      ]
    },
    {
      "cell_type": "code",
      "metadata": {
        "id": "20Rk9UoORi5M",
        "colab_type": "code",
        "colab": {}
      },
      "source": [
        "from google.colab import drive\n",
        "drive.mount('/content/drive/')"
      ],
      "execution_count": null,
      "outputs": []
    },
    {
      "cell_type": "code",
      "metadata": {
        "id": "3APwkbxcSEVS",
        "colab_type": "code",
        "colab": {
          "base_uri": "https://localhost:8080/",
          "height": 34
        },
        "outputId": "74df09d9-15b0-495d-c783-e5b75b6a63ee"
      },
      "source": [
        "import os\n",
        "os.chdir('/content/drive/My Drive/pygender')\n",
        "!ls"
      ],
      "execution_count": 3,
      "outputs": [
        {
          "output_type": "stream",
          "text": [
            "test_data  train_data  Untitled0.ipynb\tvoice_features.csv\n"
          ],
          "name": "stdout"
        }
      ]
    },
    {
      "cell_type": "code",
      "metadata": {
        "id": "XAHExGL9SZ3b",
        "colab_type": "code",
        "colab": {}
      },
      "source": [
        "!pip3 install python_speech_features"
      ],
      "execution_count": null,
      "outputs": []
    },
    {
      "cell_type": "code",
      "metadata": {
        "id": "Ht3L9glSWTE4",
        "colab_type": "code",
        "colab": {}
      },
      "source": [
        "import librosa\n",
        "from scipy.io.wavfile import read\n",
        "from sklearn import preprocessing\n",
        "import pandas as pd\n",
        "import numpy as np\n",
        "\n",
        "def feature_extraction(file_name, **kwargs):\n",
        "  mfcc = kwargs.get(\"mfcc\")\n",
        "  chroma = kwargs.get(\"chroma\")\n",
        "  mel = kwargs.get(\"mel\")\n",
        "  tonnetz = kwargs.get(\"tonnetz\")\n",
        "  contrast = kwargs.get(\"contrast\")\n",
        "\n",
        "  audio, sample_rate = librosa.core.load(file_name)\n",
        "  EnrgSpectra = np.abs(librosa.stft(audio))\n",
        "  result=np.asarray(())\n",
        "\n",
        "  if mfcc:\n",
        "    features=np.mean(librosa.feature.mfcc(y=audio, sr=sample_rate, n_mfcc=25).T, axis=0)\n",
        "    features=preprocessing.scale(features)\n",
        "    features=np.hstack((result,features))\n",
        "\n",
        "  if chroma:\n",
        "    chroma=np.mean(librosa.feature.chroma_stft(S=EnrgSpectra, sr=sample_rate).T, axis=0)\n",
        "    chroma=preprocessing.scale(chroma)\n",
        "    features=np.hstack((result,chroma))\n",
        "  \n",
        "  if mel:\n",
        "    mel = np.mean(librosa.feature.melspectrogram(audio, sr=sample_rate).T, axis=0)\n",
        "    mel=preprocessing.scale(mel)\n",
        "    features=np.hstack((result,mel))\n",
        "\n",
        "  if tonnetz:\n",
        "    tonnetz=np.mean(librosa.feature.tonnetz(y=audio,sr=sample_rate).T, axis=0)\n",
        "    tonnetz=preprocessing.scale(tonnetz)\n",
        "    features=np.hstack((result,tonnetz))\n",
        "  if contrast:\n",
        "    contrast=np.mean(librosa.feature.spectral_contrast(y=audio,sr=sample_rate).T, axis=0)\n",
        "    contrast=preprocessing.scale(contrast)\n",
        "    features=np.hstack((result,contrast))\n",
        "    \n",
        "  return features"
      ],
      "execution_count": 20,
      "outputs": []
    },
    {
      "cell_type": "code",
      "metadata": {
        "id": "sU_2HyZkWfoC",
        "colab_type": "code",
        "colab": {}
      },
      "source": [
        "def data_preperation(train_or_test ):\n",
        "  if train_or_test==\"train\":\n",
        "    train_female_path='/content/drive/My Drive/pygender/train_data/female/'\n",
        "    train_male_path='/content/drive/My Drive/pygender/train_data/male/'\n",
        "    csvFile='/content/drive/My Drive/pygender/mfcc_features_train.csv'\n",
        "    dirname=\"data/mfcc_train\"\n",
        "    \n",
        "  elif train_or_test==\"test\":\n",
        "    train_female_path='/content/drive/My Drive/pygender/test_data/female_clips/'\n",
        "    train_male_path='/content/drive/My Drive/pygender/test_data/male_clips/'\n",
        "    csvFile='/content/drive/My Drive/pygender/mfcc_features_test.csv'\n",
        "    dirname=\"data/mfcc_test\"\n",
        "    \n",
        "  #train_female_path= '/content/drive/My Drive/pygender/train_data/female/'\n",
        "  female_files=[os.path.join(train_female_path,f) for f in os.listdir(train_female_path) if f.endswith('.wav')]\n",
        "\n",
        "  #dirname = \"data/mfcc\"\n",
        "\n",
        "  if not os.path.isdir(dirname):\n",
        "      os.mkdir(dirname)\n",
        "\n",
        "  df=pd.DataFrame()\n",
        "  feature_file=list()\n",
        "  label=list()\n",
        "  \n",
        "  for f in female_files:\n",
        "    splited = os.path.split(f)\n",
        "    #gen_label = splited[-2].split(\"/\")[-1]\n",
        "    \n",
        "    audio_filename=splited[-1].split(\".\")[0]\n",
        "    \n",
        "    mfcc=feature_extraction(f, mfcc=True)\n",
        "\n",
        "    dest_path=f\"{dirname}/{audio_filename}\"\n",
        "    \n",
        "    np.save(dest_path, mfcc)\n",
        "\n",
        "    feature_file.append(dest_path+\".npy\")\n",
        "    label.append(\"female\")\n",
        "\n",
        "  \n",
        "  #train_male_path= '/content/drive/My Drive/pygender/train_data/male/'\n",
        "  male_files=[os.path.join(train_male_path,f) for f in os.listdir(train_male_path) if f.endswith('.wav')]\n",
        "\n",
        "  for f in male_files: \n",
        "    mfcc=feature_extraction(f, mfcc=True)\n",
        "\n",
        "    splited = os.path.split(f)\n",
        "    #gen_label = splited[-2].split(\"/\")[-1]\n",
        "    \n",
        "    audio_filename=splited[-1].split(\".\")[0]\n",
        "\n",
        "    dest_path=f\"{dirname}/{audio_filename}\"\n",
        "\n",
        "    np.save(dest_path, mfcc)\n",
        "\n",
        "    feature_file.append(dest_path+\".npy\")\n",
        "    label.append(\"male\")\n",
        "\n",
        "  df['file_feature_name']=feature_file\n",
        "  df['gender']=label\n",
        "\n",
        "  df.to_csv(csvFile)\n",
        "  #df.to_csv('/content/drive/My Drive/pygender/mfcc_features.csv')"
      ],
      "execution_count": 119,
      "outputs": []
    },
    {
      "cell_type": "code",
      "metadata": {
        "id": "-TajfRulnfmt",
        "colab_type": "code",
        "colab": {}
      },
      "source": [
        "def load_data(train_or_test):\n",
        "  if train_or_test==\"train\":\n",
        "    csvFile=\"/content/drive/My Drive/pygender/mfcc_features_train.csv\"\n",
        "    npFeatureFile=\"data/all_mfcc_train\"\n",
        "    npLabelFile=\"data/all_label_train\"\n",
        "  elif train_or_test==\"test\":\n",
        "    csvFile=\"/content/drive/My Drive/pygender/mfcc_features_test.csv\"\n",
        "    npFeatureFile=\"data/all_mfcc_test\"\n",
        "    npLabelFile=\"data/all_label_test\"\n",
        "  df=pd.read_csv(csvFile)\n",
        "\n",
        "  Y_train= np.zeros((len(df),1))\n",
        "  X_train=np.zeros((len(df),25))\n",
        "\n",
        "  for i, (file_name, gender) in enumerate(zip(df['file_feature_name'], df['gender'])):\n",
        "    mfccFeature=np.load(file_name)  \n",
        "    \n",
        "    X_train[i]=mfccFeature\n",
        "\n",
        "    if gender== \"female\":\n",
        "      Y_train[i]=1\n",
        "    else:\n",
        "      Y_train[i]=0\n",
        "\n",
        "  np.save(npFeatureFile, X_train)\n",
        "  np.save(npLabelFile, Y_train)\n",
        "\n",
        "  return X_train, Y_train"
      ],
      "execution_count": 120,
      "outputs": []
    },
    {
      "cell_type": "code",
      "metadata": {
        "id": "PEbnc_-YBGqP",
        "colab_type": "code",
        "colab": {
          "base_uri": "https://localhost:8080/",
          "height": 52
        },
        "outputId": "29afbaad-66d2-4762-afe6-060c39ba83b7"
      },
      "source": [
        "from sklearn.linear_model import LogisticRegression\n",
        "from sklearn.model_selection import GridSearchCV\n",
        "import pickle\n",
        "from sklearn.metrics import accuracy_score\n",
        "from xgboost import XGBClassifier\n",
        "\n",
        "data_preperation(\"train\")\n",
        "\n",
        "X_train, Y_train= load_data(\"train\")\n",
        "\n",
        "param_grid={'learning_rate':[.0001,.1,.2,.5], 'n_estimators':[20,50,100,150,300], 'warm_start':[True, False]}\n",
        "xgb=XGBClassifier()\n",
        "xgb_cv=GridSearchCV(xgb, param_grid, cv=5)\n",
        "xgb_cv.fit(X_train, Y_train.ravel())\n",
        "\n",
        "#model_name=\"mfcc_model.sav\"\n",
        "#pickle.dump(xgb_cv, open(model_name, 'wb'))\n",
        "\n",
        "print(xgb_cv.best_params_)\n",
        "print(xgb_cv.best_score_)"
      ],
      "execution_count": 225,
      "outputs": [
        {
          "output_type": "stream",
          "text": [
            "{'learning_rate': 0.0001, 'n_estimators': 20, 'warm_start': True}\n",
            "0.5\n"
          ],
          "name": "stdout"
        }
      ]
    },
    {
      "cell_type": "code",
      "metadata": {
        "id": "O_SoTh1ADVWl",
        "colab_type": "code",
        "colab": {
          "base_uri": "https://localhost:8080/",
          "height": 228
        },
        "outputId": "d0b86805-515d-4fc6-a66d-0ab7e566c867"
      },
      "source": [
        "from xgboost import XGBClassifier\n",
        "from sklearn.metrics import classification_report, confusion_matrix\n",
        "\n",
        "xgb=XGBClassifier(learning_rate= 0.0001, n_estimators= 20, warm_start= True)\n",
        "xgb.fit(X_train, Y_train.ravel())\n",
        "\n",
        "Y_pred=xgb.predict(X_test)\n",
        "print(accuracy_score(Y_test, Y_pred))\n",
        "print(classification_report(Y_test,Y_pred))\n",
        "print(confusion_matrix(Y_test,Y_pred))"
      ],
      "execution_count": 234,
      "outputs": [
        {
          "output_type": "stream",
          "text": [
            "0.6843033509700176\n",
            "              precision    recall  f1-score   support\n",
            "\n",
            "         0.0       0.73      0.60      0.66       576\n",
            "         1.0       0.65      0.77      0.71       558\n",
            "\n",
            "    accuracy                           0.68      1134\n",
            "   macro avg       0.69      0.69      0.68      1134\n",
            "weighted avg       0.69      0.68      0.68      1134\n",
            "\n",
            "[[345 231]\n",
            " [127 431]]\n"
          ],
          "name": "stdout"
        }
      ]
    },
    {
      "cell_type": "code",
      "metadata": {
        "id": "CqQRhnrSEJPw",
        "colab_type": "code",
        "colab": {
          "base_uri": "https://localhost:8080/",
          "height": 34
        },
        "outputId": "0a4cb4cb-f864-4844-dd32-5574d33245c4"
      },
      "source": [
        "from sklearn.ensemble import GradientBoostingClassifier\n",
        "gb = GradientBoostingClassifier(n_estimators= 600, max_depth=1,max_features=1, min_samples_split=2,\n",
        "              learning_rate= .001)\n",
        "gb.fit(X_train, y_train)\n",
        "\n",
        "Y_pred=gb.predict(X_test)\n",
        "\n",
        "print(accuracy_score(Y_test, Y_pred))"
      ],
      "execution_count": 209,
      "outputs": [
        {
          "output_type": "stream",
          "text": [
            "0.6772486772486772\n"
          ],
          "name": "stdout"
        }
      ]
    },
    {
      "cell_type": "code",
      "metadata": {
        "id": "tfnTzxdHOT5S",
        "colab_type": "code",
        "colab": {
          "base_uri": "https://localhost:8080/",
          "height": 34
        },
        "outputId": "3053c95f-49c6-4394-cb44-29f5730829ff"
      },
      "source": [
        "from sklearn.mixture import GaussianMixture\n",
        "gmm = GaussianMixture(n_components = 8, max_iter = 200, covariance_type='diag',\n",
        "        n_init = 3)\n",
        "gmm.fit(X_train, y_train)\n",
        "\n",
        "Y_pred=gmm.predict(X_test)\n",
        "\n",
        "print(accuracy_score(Y_test, Y_pred))"
      ],
      "execution_count": 235,
      "outputs": [
        {
          "output_type": "stream",
          "text": [
            "0.0\n"
          ],
          "name": "stdout"
        }
      ]
    },
    {
      "cell_type": "code",
      "metadata": {
        "id": "i8kOUNNENE_d",
        "colab_type": "code",
        "colab": {}
      },
      "source": [
        "data_preperation(\"test\")\n"
      ],
      "execution_count": null,
      "outputs": []
    },
    {
      "cell_type": "code",
      "metadata": {
        "id": "VJTTB1EEhHdB",
        "colab_type": "code",
        "colab": {}
      },
      "source": [
        "X_test, Y_test=load_data(\"test\")"
      ],
      "execution_count": null,
      "outputs": []
    },
    {
      "cell_type": "code",
      "metadata": {
        "id": "1j4VQkT_hwHe",
        "colab_type": "code",
        "colab": {
          "base_uri": "https://localhost:8080/",
          "height": 34
        },
        "outputId": "28b4fd41-a552-4b09-f5bf-cbd5743adfc6"
      },
      "source": [
        "from sklearn.metrics import classification_report, confusion_matrix\n",
        "\n",
        "loaded_model=pickle.load(open(\"/content/drive/My Drive/pygender/mfcc_model.sav\", 'rb'))\n",
        "print(loaded_model.score(X_test, Y_test))\n"
      ],
      "execution_count": 124,
      "outputs": [
        {
          "output_type": "stream",
          "text": [
            "0.5811287477954145\n"
          ],
          "name": "stdout"
        }
      ]
    }
  ]
}